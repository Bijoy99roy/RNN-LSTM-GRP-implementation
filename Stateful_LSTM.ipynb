{
  "nbformat": 4,
  "nbformat_minor": 0,
  "metadata": {
    "colab": {
      "name": "Stateful-LSTM.ipynb",
      "provenance": [],
      "authorship_tag": "ABX9TyPSk1E3JagEpAbrfnZdRaLW"
    },
    "kernelspec": {
      "name": "python3",
      "display_name": "Python 3"
    },
    "language_info": {
      "name": "python"
    }
  },
  "cells": [
    {
      "cell_type": "code",
      "execution_count": 1,
      "metadata": {
        "id": "2mPpwLRPGXhT"
      },
      "outputs": [],
      "source": [
        "import matplotlib.pyplot as plt\n",
        "import seaborn as sns\n",
        "import numpy as np\n",
        "import pandas as pd\n",
        "import torch\n",
        "import torch.nn as nn\n",
        "import torch.optim as optim\n",
        "from torch.utils.data import Dataset, DataLoader"
      ]
    },
    {
      "cell_type": "code",
      "source": [
        "def set_seed(seed):\n",
        "  np.random.seed(seed)\n",
        "  torch.manual_seed(seed)\n",
        "  torch.cuda.manual_seed(seed)\n",
        "  return \"Done\"\n",
        "\n",
        "set_seed(42)"
      ],
      "metadata": {
        "colab": {
          "base_uri": "https://localhost:8080/",
          "height": 36
        },
        "id": "S4R62LPsHPoQ",
        "outputId": "f758114b-9738-4fe7-c92f-bf355cac9c92"
      },
      "execution_count": 2,
      "outputs": [
        {
          "output_type": "execute_result",
          "data": {
            "text/plain": [
              "'Done'"
            ],
            "application/vnd.google.colaboratory.intrinsic+json": {
              "type": "string"
            }
          },
          "metadata": {},
          "execution_count": 2
        }
      ]
    },
    {
      "cell_type": "code",
      "source": [
        "array = np.linspace(0, 119, 120)\n",
        "print(array)"
      ],
      "metadata": {
        "colab": {
          "base_uri": "https://localhost:8080/"
        },
        "id": "kt8kI4CEHiND",
        "outputId": "287d671a-f099-4bbe-b1b6-28343ad699a4"
      },
      "execution_count": 3,
      "outputs": [
        {
          "output_type": "stream",
          "name": "stdout",
          "text": [
            "[  0.   1.   2.   3.   4.   5.   6.   7.   8.   9.  10.  11.  12.  13.\n",
            "  14.  15.  16.  17.  18.  19.  20.  21.  22.  23.  24.  25.  26.  27.\n",
            "  28.  29.  30.  31.  32.  33.  34.  35.  36.  37.  38.  39.  40.  41.\n",
            "  42.  43.  44.  45.  46.  47.  48.  49.  50.  51.  52.  53.  54.  55.\n",
            "  56.  57.  58.  59.  60.  61.  62.  63.  64.  65.  66.  67.  68.  69.\n",
            "  70.  71.  72.  73.  74.  75.  76.  77.  78.  79.  80.  81.  82.  83.\n",
            "  84.  85.  86.  87.  88.  89.  90.  91.  92.  93.  94.  95.  96.  97.\n",
            "  98.  99. 100. 101. 102. 103. 104. 105. 106. 107. 108. 109. 110. 111.\n",
            " 112. 113. 114. 115. 116. 117. 118. 119.]\n"
          ]
        }
      ]
    },
    {
      "cell_type": "code",
      "source": [
        "test_size = 20\n",
        "train_set = array[:-test_size]\n",
        "test_set = array[-test_size:]"
      ],
      "metadata": {
        "id": "sh8JGjUvHuEi"
      },
      "execution_count": 4,
      "outputs": []
    },
    {
      "cell_type": "code",
      "source": [
        "print(train_set)"
      ],
      "metadata": {
        "colab": {
          "base_uri": "https://localhost:8080/"
        },
        "id": "i4oeKWBmIA-y",
        "outputId": "60df713f-a4b7-466e-ea93-672dad4d4118"
      },
      "execution_count": 5,
      "outputs": [
        {
          "output_type": "stream",
          "name": "stdout",
          "text": [
            "[ 0.  1.  2.  3.  4.  5.  6.  7.  8.  9. 10. 11. 12. 13. 14. 15. 16. 17.\n",
            " 18. 19. 20. 21. 22. 23. 24. 25. 26. 27. 28. 29. 30. 31. 32. 33. 34. 35.\n",
            " 36. 37. 38. 39. 40. 41. 42. 43. 44. 45. 46. 47. 48. 49. 50. 51. 52. 53.\n",
            " 54. 55. 56. 57. 58. 59. 60. 61. 62. 63. 64. 65. 66. 67. 68. 69. 70. 71.\n",
            " 72. 73. 74. 75. 76. 77. 78. 79. 80. 81. 82. 83. 84. 85. 86. 87. 88. 89.\n",
            " 90. 91. 92. 93. 94. 95. 96. 97. 98. 99.]\n"
          ]
        }
      ]
    },
    {
      "cell_type": "code",
      "source": [
        "print(test_set)"
      ],
      "metadata": {
        "colab": {
          "base_uri": "https://localhost:8080/"
        },
        "id": "EFH8BI85IC9R",
        "outputId": "f9e2946f-0b4a-44e2-d863-8a3e110db632"
      },
      "execution_count": 6,
      "outputs": [
        {
          "output_type": "stream",
          "name": "stdout",
          "text": [
            "[100. 101. 102. 103. 104. 105. 106. 107. 108. 109. 110. 111. 112. 113.\n",
            " 114. 115. 116. 117. 118. 119.]\n"
          ]
        }
      ]
    },
    {
      "cell_type": "code",
      "source": [
        "plt.plot(train_set, linewidth=5)\n",
        "plt.grid(True)\n",
        "plt.plot(test_set, range(100, 120), linewidth=5)"
      ],
      "metadata": {
        "colab": {
          "base_uri": "https://localhost:8080/",
          "height": 282
        },
        "id": "hz2Qb4TuIEmj",
        "outputId": "49597081-c6c3-4d07-e877-fd132f14cbe6"
      },
      "execution_count": 7,
      "outputs": [
        {
          "output_type": "execute_result",
          "data": {
            "text/plain": [
              "[<matplotlib.lines.Line2D at 0x7f22ee6fc310>]"
            ]
          },
          "metadata": {},
          "execution_count": 7
        },
        {
          "output_type": "display_data",
          "data": {
            "text/plain": [
              "<Figure size 432x288 with 1 Axes>"
            ],
            "image/png": "[encoded data removed]"
          },
          "metadata": {
            "needs_background": "light"
          }
        }
      ]
    },
    {
      "cell_type": "code",
      "source": [
        "def input_data(data, ws):\n",
        "  out = []\n",
        "\n",
        "  for i in range(len(data)-ws):\n",
        "    feature = data[i:i+ws+1]\n",
        "    out.append(feature)\n",
        "\n",
        "  df = pd.DataFrame(out)\n",
        "  return df"
      ],
      "metadata": {
        "id": "FG6ShXRhIXu1"
      },
      "execution_count": 8,
      "outputs": []
    },
    {
      "cell_type": "code",
      "source": [
        "input_data(train_set,3)"
      ],
      "metadata": {
        "colab": {
          "base_uri": "https://localhost:8080/",
          "height": 424
        },
        "id": "AeTIWdEBLaUa",
        "outputId": "93b0e26b-40e4-4399-cd1f-a2ea4c2891f6"
      },
      "execution_count": 9,
      "outputs": [
        {
          "output_type": "execute_result",
          "data": {
            "text/plain": [
              "       0     1     2     3\n",
              "0    0.0   1.0   2.0   3.0\n",
              "1    1.0   2.0   3.0   4.0\n",
              "2    2.0   3.0   4.0   5.0\n",
              "3    3.0   4.0   5.0   6.0\n",
              "4    4.0   5.0   6.0   7.0\n",
              "..   ...   ...   ...   ...\n",
              "92  92.0  93.0  94.0  95.0\n",
              "93  93.0  94.0  95.0  96.0\n",
              "94  94.0  95.0  96.0  97.0\n",
              "95  95.0  96.0  97.0  98.0\n",
              "96  96.0  97.0  98.0  99.0\n",
              "\n",
              "[97 rows x 4 columns]"
            ],
            "text/html": [
              "\n",
              "  <div id=\"df-4c64f2da-f5a1-4b70-8414-e316ce716fac\">\n",
              "    <div class=\"colab-df-container\">\n",
              "      <div>\n",
              "<style scoped>\n",
              "    .dataframe tbody tr th:only-of-type {\n",
              "        vertical-align: middle;\n",
              "    }\n",
              "\n",
              "    .dataframe tbody tr th {\n",
              "        vertical-align: top;\n",
              "    }\n",
              "\n",
              "    .dataframe thead th {\n",
              "        text-align: right;\n",
              "    }\n",
              "</style>\n",
              "<table border=\"1\" class=\"dataframe\">\n",
              "  <thead>\n",
              "    <tr style=\"text-align: right;\">\n",
              "      <th></th>\n",
              "      <th>0</th>\n",
              "      <th>1</th>\n",
              "      <th>2</th>\n",
              "      <th>3</th>\n",
              "    </tr>\n",
              "  </thead>\n",
              "  <tbody>\n",
              "    <tr>\n",
              "      <th>0</th>\n",
              "      <td>0.0</td>\n",
              "      <td>1.0</td>\n",
              "      <td>2.0</td>\n",
              "      <td>3.0</td>\n",
              "    </tr>\n",
              "    <tr>\n",
              "      <th>1</th>\n",
              "      <td>1.0</td>\n",
              "      <td>2.0</td>\n",
              "      <td>3.0</td>\n",
              "      <td>4.0</td>\n",
              "    </tr>\n",
              "    <tr>\n",
              "      <th>2</th>\n",
              "      <td>2.0</td>\n",
              "      <td>3.0</td>\n",
              "      <td>4.0</td>\n",
              "      <td>5.0</td>\n",
              "    </tr>\n",
              "    <tr>\n",
              "      <th>3</th>\n",
              "      <td>3.0</td>\n",
              "      <td>4.0</td>\n",
              "      <td>5.0</td>\n",
              "      <td>6.0</td>\n",
              "    </tr>\n",
              "    <tr>\n",
              "      <th>4</th>\n",
              "      <td>4.0</td>\n",
              "      <td>5.0</td>\n",
              "      <td>6.0</td>\n",
              "      <td>7.0</td>\n",
              "    </tr>\n",
              "    <tr>\n",
              "      <th>...</th>\n",
              "      <td>...</td>\n",
              "      <td>...</td>\n",
              "      <td>...</td>\n",
              "      <td>...</td>\n",
              "    </tr>\n",
              "    <tr>\n",
              "      <th>92</th>\n",
              "      <td>92.0</td>\n",
              "      <td>93.0</td>\n",
              "      <td>94.0</td>\n",
              "      <td>95.0</td>\n",
              "    </tr>\n",
              "    <tr>\n",
              "      <th>93</th>\n",
              "      <td>93.0</td>\n",
              "      <td>94.0</td>\n",
              "      <td>95.0</td>\n",
              "      <td>96.0</td>\n",
              "    </tr>\n",
              "    <tr>\n",
              "      <th>94</th>\n",
              "      <td>94.0</td>\n",
              "      <td>95.0</td>\n",
              "      <td>96.0</td>\n",
              "      <td>97.0</td>\n",
              "    </tr>\n",
              "    <tr>\n",
              "      <th>95</th>\n",
              "      <td>95.0</td>\n",
              "      <td>96.0</td>\n",
              "      <td>97.0</td>\n",
              "      <td>98.0</td>\n",
              "    </tr>\n",
              "    <tr>\n",
              "      <th>96</th>\n",
              "      <td>96.0</td>\n",
              "      <td>97.0</td>\n",
              "      <td>98.0</td>\n",
              "      <td>99.0</td>\n",
              "    </tr>\n",
              "  </tbody>\n",
              "</table>\n",
              "<p>97 rows × 4 columns</p>\n",
              "</div>\n",
              "      <button class=\"colab-df-convert\" onclick=\"convertToInteractive('df-4c64f2da-f5a1-4b70-8414-e316ce716fac')\"\n",
              "              title=\"Convert this dataframe to an interactive table.\"\n",
              "              style=\"display:none;\">\n",
              "        \n",
              "  <svg xmlns=\"http://www.w3.org/2000/svg\" height=\"24px\"viewBox=\"0 0 24 24\"\n",
              "       width=\"24px\">\n",
              "    <path d=\"M0 0h24v24H0V0z\" fill=\"none\"/>\n",
              "    <path d=\"M18.56 5.44l.94 2.06.94-2.06 2.06-.94-2.06-.94-.94-2.06-.94 2.06-2.06.94zm-11 1L8.5 8.5l.94-2.06 2.06-.94-2.06-.94L8.5 2.5l-.94 2.06-2.06.94zm10 10l.94 2.06.94-2.06 2.06-.94-2.06-.94-.94-2.06-.94 2.06-2.06.94z\"/><path d=\"M17.41 7.96l-1.37-1.37c-.4-.4-.92-.59-1.43-.59-.52 0-1.04.2-1.43.59L10.3 9.45l-7.72 7.72c-.78.78-.78 2.05 0 2.83L4 21.41c.39.39.9.59 1.41.59.51 0 1.02-.2 1.41-.59l7.78-7.78 2.81-2.81c.8-.78.8-2.07 0-2.86zM5.41 20L4 18.59l7.72-7.72 1.47 1.35L5.41 20z\"/>\n",
              "  </svg>\n",
              "      </button>\n",
              "      \n",
              "  <style>\n",
              "    .colab-df-container {\n",
              "      display:flex;\n",
              "      flex-wrap:wrap;\n",
              "      gap: 12px;\n",
              "    }\n",
              "\n",
              "    .colab-df-convert {\n",
              "      background-color: #E8F0FE;\n",
              "      border: none;\n",
              "      border-radius: 50%;\n",
              "      cursor: pointer;\n",
              "      display: none;\n",
              "      fill: #1967D2;\n",
              "      height: 32px;\n",
              "      padding: 0 0 0 0;\n",
              "      width: 32px;\n",
              "    }\n",
              "\n",
              "    .colab-df-convert:hover {\n",
              "      background-color: #E2EBFA;\n",
              "      box-shadow: 0px 1px 2px rgba(60, 64, 67, 0.3), 0px 1px 3px 1px rgba(60, 64, 67, 0.15);\n",
              "      fill: #174EA6;\n",
              "    }\n",
              "\n",
              "    [theme=dark] .colab-df-convert {\n",
              "      background-color: #3B4455;\n",
              "      fill: #D2E3FC;\n",
              "    }\n",
              "\n",
              "    [theme=dark] .colab-df-convert:hover {\n",
              "      background-color: #434B5C;\n",
              "      box-shadow: 0px 1px 3px 1px rgba(0, 0, 0, 0.15);\n",
              "      filter: drop-shadow(0px 1px 2px rgba(0, 0, 0, 0.3));\n",
              "      fill: #FFFFFF;\n",
              "    }\n",
              "  </style>\n",
              "\n",
              "      <script>\n",
              "        const buttonEl =\n",
              "          document.querySelector('#df-4c64f2da-f5a1-4b70-8414-e316ce716fac button.colab-df-convert');\n",
              "        buttonEl.style.display =\n",
              "          google.colab.kernel.accessAllowed ? 'block' : 'none';\n",
              "\n",
              "        async function convertToInteractive(key) {\n",
              "          const element = document.querySelector('#df-4c64f2da-f5a1-4b70-8414-e316ce716fac');\n",
              "          const dataTable =\n",
              "            await google.colab.kernel.invokeFunction('convertToInteractive',\n",
              "                                                     [key], {});\n",
              "          if (!dataTable) return;\n",
              "\n",
              "          const docLinkHtml = 'Like what you see? Visit the ' +\n",
              "            '<a target=\"_blank\" href=https://colab.research.google.com/notebooks/data_table.ipynb>data table notebook</a>'\n",
              "            + ' to learn more about interactive tables.';\n",
              "          element.innerHTML = '';\n",
              "          dataTable['output_type'] = 'display_data';\n",
              "          await google.colab.output.renderOutput(dataTable, element);\n",
              "          const docLink = document.createElement('div');\n",
              "          docLink.innerHTML = docLinkHtml;\n",
              "          element.appendChild(docLink);\n",
              "        }\n",
              "      </script>\n",
              "    </div>\n",
              "  </div>\n",
              "  "
            ]
          },
          "metadata": {},
          "execution_count": 9
        }
      ]
    },
    {
      "cell_type": "code",
      "source": [
        "class CustomDatasetTrain(Dataset):\n",
        "  def __init__(self):\n",
        "    self.df = input_data(train_set, 3)\n",
        "    self.x = torch.from_numpy(self.df.drop(3,axis=1).to_numpy()).float()\n",
        "    self.y = torch.from_numpy(self.df[3].to_numpy()).float()\n",
        "    self.n_sample = self.df.shape[0]\n",
        "\n",
        "  def __getitem__(self, index):\n",
        "    return self.x[index], self.y[index]\n",
        "\n",
        "  def __len__(self):\n",
        "    return self.n_sample\n",
        "\n",
        "train_data= CustomDatasetTrain()"
      ],
      "metadata": {
        "id": "G_RsFidwJUVu"
      },
      "execution_count": 10,
      "outputs": []
    },
    {
      "cell_type": "code",
      "source": [
        "class CustomDatasetTest(Dataset):\n",
        "    def __init__(self):\n",
        "        self.df = input_data(test_set,3)\n",
        "        self.x = torch.from_numpy(self.df.drop(3,axis=1).to_numpy()).float()\n",
        "        self.y = torch.from_numpy(self.df[3].to_numpy()).float()\n",
        "        self.n_sample = self.df.shape[0]\n",
        "\n",
        "    def __getitem__(self, index):\n",
        "        return self.x[index],self.y[index]\n",
        "    \n",
        "    def __len__(self):\n",
        "        return self.n_sample\n",
        "    \n",
        "test_data = CustomDatasetTest()"
      ],
      "metadata": {
        "id": "dgDfiyfiJhyh"
      },
      "execution_count": 11,
      "outputs": []
    },
    {
      "cell_type": "code",
      "source": [
        "train_loader = DataLoader(train_data,4,True)\n",
        "test_loader = DataLoader(test_data,4)"
      ],
      "metadata": {
        "id": "T96HHC4YNpSE"
      },
      "execution_count": 12,
      "outputs": []
    },
    {
      "cell_type": "code",
      "source": [
        "for data in train_loader:\n",
        "    print(data[0].reshape(-1,3,1))\n",
        "    break"
      ],
      "metadata": {
        "colab": {
          "base_uri": "https://localhost:8080/"
        },
        "id": "ZUhdmTHAN4b3",
        "outputId": "6bb5fe66-fc0d-4d98-ad32-e673eb53347a"
      },
      "execution_count": 13,
      "outputs": [
        {
          "output_type": "stream",
          "name": "stdout",
          "text": [
            "tensor([[[85.],\n",
            "         [86.],\n",
            "         [87.]],\n",
            "\n",
            "        [[38.],\n",
            "         [39.],\n",
            "         [40.]],\n",
            "\n",
            "        [[53.],\n",
            "         [54.],\n",
            "         [55.]],\n",
            "\n",
            "        [[22.],\n",
            "         [23.],\n",
            "         [24.]]])\n"
          ]
        }
      ]
    },
    {
      "cell_type": "markdown",
      "source": [
        "# Model Train and Evaluation"
      ],
      "metadata": {
        "id": "oGgJO5YaPu4O"
      }
    },
    {
      "cell_type": "code",
      "source": [
        "class LSTM(nn.Module):\n",
        "  def __init__(self, input_size, hidden_size, num_layers, linear_output, batch_size, bidirectional, batch_first):\n",
        "    super().__init__()\n",
        "\n",
        "    self.lstm = nn.LSTM(input_size=input_size, \n",
        "                      hidden_size=hidden_size,\n",
        "                      num_layers=num_layers,\n",
        "                      batch_first=batch_first,\n",
        "                      bidirectional=bidirectional)\n",
        "    self.linear = nn.Linear(hidden_size, 12)\n",
        "    self.linear_1 = nn.Linear(12,1)\n",
        "\n",
        "  def forward(self, input_data):\n",
        "    input_ = input_data.reshape(-1, 3, 1)\n",
        "    #print(input_)\n",
        "    output, (hidden, cell) = self.lstm(input_)\n",
        "    pred = self.linear(hidden)\n",
        "    pred = self.linear_1(pred)\n",
        "    \n",
        "    return pred"
      ],
      "metadata": {
        "id": "6nwT1OutN6qP"
      },
      "execution_count": 14,
      "outputs": []
    },
    {
      "cell_type": "code",
      "source": [
        "batch_size = 5\n",
        "\n",
        "train_loader = DataLoader(train_data, batch_size)\n",
        "test_loader = DataLoader(test_data, batch_size)\n",
        "\n",
        "model = LSTM(input_size=1,\n",
        "            hidden_size=100,\n",
        "            num_layers=2,\n",
        "            linear_output = 1,\n",
        "            batch_size= batch_size,\n",
        "            bidirectional= False,\n",
        "            batch_first= True)\n",
        "\n",
        "loss_func = nn.MSELoss()\n",
        "optimizer = optim.Adagrad(model.parameters(), lr=0.1)\n",
        "\n"
      ],
      "metadata": {
        "id": "a59hsArST9Gr"
      },
      "execution_count": 15,
      "outputs": []
    },
    {
      "cell_type": "code",
      "source": [
        "print(model)"
      ],
      "metadata": {
        "colab": {
          "base_uri": "https://localhost:8080/"
        },
        "id": "sxSTf76MUzE1",
        "outputId": "688ae4fb-6049-4c1b-abe2-85b0bc398fb4"
      },
      "execution_count": 16,
      "outputs": [
        {
          "output_type": "stream",
          "name": "stdout",
          "text": [
            "LSTM(\n",
            "  (lstm): LSTM(1, 100, num_layers=2, batch_first=True)\n",
            "  (linear): Linear(in_features=100, out_features=12, bias=True)\n",
            "  (linear_1): Linear(in_features=12, out_features=1, bias=True)\n",
            ")\n"
          ]
        }
      ]
    },
    {
      "cell_type": "code",
      "source": [
        "for i in model.parameters():\n",
        "  print(i.shape)"
      ],
      "metadata": {
        "colab": {
          "base_uri": "https://localhost:8080/"
        },
        "id": "osFyJnGhU0Gs",
        "outputId": "785bddfa-e4cf-4e21-f8b3-e488d62fc151"
      },
      "execution_count": 17,
      "outputs": [
        {
          "output_type": "stream",
          "name": "stdout",
          "text": [
            "torch.Size([400, 1])\n",
            "torch.Size([400, 100])\n",
            "torch.Size([400])\n",
            "torch.Size([400])\n",
            "torch.Size([400, 100])\n",
            "torch.Size([400, 100])\n",
            "torch.Size([400])\n",
            "torch.Size([400])\n",
            "torch.Size([12, 100])\n",
            "torch.Size([12])\n",
            "torch.Size([1, 12])\n",
            "torch.Size([1])\n"
          ]
        }
      ]
    },
    {
      "cell_type": "code",
      "source": [
        "epochs = 200\n",
        "loss = 0\n",
        "from tqdm import tqdm\n",
        "\n",
        "for epoch in range(epochs):\n",
        "  with tqdm(train_loader) as tqdm_epoch:\n",
        "    for data, label in tqdm_epoch:\n",
        "      tqdm_epoch.set_description(f\"Epoch {epoch+1}/{epochs}\")\n",
        "      optimizer.zero_grad()\n",
        "      #print(data)\n",
        "      pred = model.forward(data)\n",
        "      loss = loss_func(pred, label.reshape(1,-1,1))\n",
        "      #print(f\"pred: {pred} \\n label:  {label}\")\n",
        "      loss.backward()\n",
        "\n",
        "      optimizer.step()\n",
        "\n",
        "      tqdm_epoch.set_postfix(loss=loss.item())\n"
      ],
      "metadata": {
        "colab": {
          "base_uri": "https://localhost:8080/"
        },
        "id": "2G_GDOvNU8Ba",
        "outputId": "c937ebb8-0a04-47f3-d108-b2645ef21d65"
      },
      "execution_count": 24,
      "outputs": [
        {
          "output_type": "stream",
          "name": "stderr",
          "text": [
            "Epoch 1/200:   0%|          | 0/20 [00:00<?, ?it/s]/usr/local/lib/python3.7/dist-packages/torch/nn/modules/loss.py:530: UserWarning: Using a target size (torch.Size([1, 5, 1])) that is different to the input size (torch.Size([2, 5, 1])). This will likely lead to incorrect results due to broadcasting. Please ensure they have the same size.\n",
            "  return F.mse_loss(input, target, reduction=self.reduction)\n",
            "Epoch 1/200:  85%|████████▌ | 17/20 [00:00<00:00, 40.43it/s, loss=0.518]/usr/local/lib/python3.7/dist-packages/torch/nn/modules/loss.py:530: UserWarning: Using a target size (torch.Size([1, 2, 1])) that is different to the input size (torch.Size([2, 2, 1])). This will likely lead to incorrect results due to broadcasting. Please ensure they have the same size.\n",
            "  return F.mse_loss(input, target, reduction=self.reduction)\n",
            "Epoch 1/200: 100%|██████████| 20/20 [00:00<00:00, 41.47it/s, loss=0.078]\n",
            "Epoch 2/200: 100%|██████████| 20/20 [00:00<00:00, 44.26it/s, loss=0.0531]\n",
            "Epoch 3/200: 100%|██████████| 20/20 [00:00<00:00, 50.48it/s, loss=0.0329]\n",
            "Epoch 4/200: 100%|██████████| 20/20 [00:00<00:00, 36.75it/s, loss=0.022]\n",
            "Epoch 5/200: 100%|██████████| 20/20 [00:00<00:00, 35.09it/s, loss=0.0187]\n",
            "Epoch 6/200: 100%|██████████| 20/20 [00:00<00:00, 69.85it/s, loss=0.0191]\n",
            "Epoch 7/200: 100%|██████████| 20/20 [00:00<00:00, 68.08it/s, loss=0.0218]\n",
            "Epoch 8/200: 100%|██████████| 20/20 [00:00<00:00, 71.35it/s, loss=0.0277]\n",
            "Epoch 9/200: 100%|██████████| 20/20 [00:00<00:00, 69.46it/s, loss=0.038]\n",
            "Epoch 10/200: 100%|██████████| 20/20 [00:00<00:00, 70.20it/s, loss=0.0521]\n",
            "Epoch 11/200: 100%|██████████| 20/20 [00:00<00:00, 71.93it/s, loss=0.0661]\n",
            "Epoch 12/200: 100%|██████████| 20/20 [00:00<00:00, 74.64it/s, loss=0.0742]\n",
            "Epoch 13/200: 100%|██████████| 20/20 [00:00<00:00, 66.81it/s, loss=0.0754]\n",
            "Epoch 14/200: 100%|██████████| 20/20 [00:00<00:00, 68.80it/s, loss=0.0761]\n",
            "Epoch 15/200: 100%|██████████| 20/20 [00:00<00:00, 69.81it/s, loss=0.0893]\n",
            "Epoch 16/200: 100%|██████████| 20/20 [00:00<00:00, 70.45it/s, loss=0.135]\n",
            "Epoch 17/200: 100%|██████████| 20/20 [00:00<00:00, 73.72it/s, loss=0.249]\n",
            "Epoch 18/200: 100%|██████████| 20/20 [00:00<00:00, 72.97it/s, loss=0.493]\n",
            "Epoch 19/200: 100%|██████████| 20/20 [00:00<00:00, 71.76it/s, loss=1]\n",
            "Epoch 20/200: 100%|██████████| 20/20 [00:00<00:00, 70.62it/s, loss=2.6]\n",
            "Epoch 21/200: 100%|██████████| 20/20 [00:00<00:00, 69.81it/s, loss=17.4]\n",
            "Epoch 22/200: 100%|██████████| 20/20 [00:00<00:00, 66.50it/s, loss=24.4]\n",
            "Epoch 23/200: 100%|██████████| 20/20 [00:00<00:00, 73.53it/s, loss=0.203]\n",
            "Epoch 24/200: 100%|██████████| 20/20 [00:00<00:00, 62.42it/s, loss=4.59]\n",
            "Epoch 25/200: 100%|██████████| 20/20 [00:00<00:00, 67.18it/s, loss=3.76]\n",
            "Epoch 26/200: 100%|██████████| 20/20 [00:00<00:00, 69.47it/s, loss=2.28]\n",
            "Epoch 27/200: 100%|██████████| 20/20 [00:00<00:00, 72.23it/s, loss=1.13]\n",
            "Epoch 28/200: 100%|██████████| 20/20 [00:00<00:00, 68.71it/s, loss=0.879]\n",
            "Epoch 29/200: 100%|██████████| 20/20 [00:00<00:00, 65.94it/s, loss=0.429]\n",
            "Epoch 30/200: 100%|██████████| 20/20 [00:00<00:00, 72.02it/s, loss=0.177]\n",
            "Epoch 31/200: 100%|██████████| 20/20 [00:00<00:00, 72.92it/s, loss=1.42]\n",
            "Epoch 32/200: 100%|██████████| 20/20 [00:00<00:00, 70.03it/s, loss=2.63]\n",
            "Epoch 33/200: 100%|██████████| 20/20 [00:00<00:00, 68.45it/s, loss=2.15]\n",
            "Epoch 34/200: 100%|██████████| 20/20 [00:00<00:00, 72.57it/s, loss=0.985]\n",
            "Epoch 35/200: 100%|██████████| 20/20 [00:00<00:00, 68.08it/s, loss=0.2]\n",
            "Epoch 36/200: 100%|██████████| 20/20 [00:00<00:00, 69.43it/s, loss=0.0749]\n",
            "Epoch 37/200: 100%|██████████| 20/20 [00:00<00:00, 68.04it/s, loss=0.029]\n",
            "Epoch 38/200: 100%|██████████| 20/20 [00:00<00:00, 68.38it/s, loss=0.0166]\n",
            "Epoch 39/200: 100%|██████████| 20/20 [00:00<00:00, 69.48it/s, loss=0.0213]\n",
            "Epoch 40/200: 100%|██████████| 20/20 [00:00<00:00, 71.44it/s, loss=0.0165]\n",
            "Epoch 41/200: 100%|██████████| 20/20 [00:00<00:00, 71.12it/s, loss=0.0154]\n",
            "Epoch 42/200: 100%|██████████| 20/20 [00:00<00:00, 67.99it/s, loss=0.0169]\n",
            "Epoch 43/200: 100%|██████████| 20/20 [00:00<00:00, 71.23it/s, loss=0.0137]\n",
            "Epoch 44/200: 100%|██████████| 20/20 [00:00<00:00, 71.42it/s, loss=0.0243]\n",
            "Epoch 45/200: 100%|██████████| 20/20 [00:00<00:00, 72.26it/s, loss=0.0617]\n",
            "Epoch 46/200: 100%|██████████| 20/20 [00:00<00:00, 67.93it/s, loss=0.101]\n",
            "Epoch 47/200: 100%|██████████| 20/20 [00:00<00:00, 67.37it/s, loss=0.121]\n",
            "Epoch 48/200: 100%|██████████| 20/20 [00:00<00:00, 70.47it/s, loss=0.123]\n",
            "Epoch 49/200: 100%|██████████| 20/20 [00:00<00:00, 67.27it/s, loss=0.117]\n",
            "Epoch 50/200: 100%|██████████| 20/20 [00:00<00:00, 70.61it/s, loss=0.11]\n",
            "Epoch 51/200: 100%|██████████| 20/20 [00:00<00:00, 72.79it/s, loss=0.102]\n",
            "Epoch 52/200: 100%|██████████| 20/20 [00:00<00:00, 67.90it/s, loss=0.0887]\n",
            "Epoch 53/200: 100%|██████████| 20/20 [00:00<00:00, 61.86it/s, loss=0.0715]\n",
            "Epoch 54/200: 100%|██████████| 20/20 [00:00<00:00, 58.03it/s, loss=0.0533]\n",
            "Epoch 55/200: 100%|██████████| 20/20 [00:00<00:00, 59.71it/s, loss=0.0375]\n",
            "Epoch 56/200: 100%|██████████| 20/20 [00:00<00:00, 68.41it/s, loss=0.026]\n",
            "Epoch 57/200: 100%|██████████| 20/20 [00:00<00:00, 66.77it/s, loss=0.0189]\n",
            "Epoch 58/200: 100%|██████████| 20/20 [00:00<00:00, 58.19it/s, loss=0.0155]\n",
            "Epoch 59/200: 100%|██████████| 20/20 [00:00<00:00, 68.51it/s, loss=0.0151]\n",
            "Epoch 60/200: 100%|██████████| 20/20 [00:00<00:00, 73.82it/s, loss=0.0167]\n",
            "Epoch 61/200: 100%|██████████| 20/20 [00:00<00:00, 72.30it/s, loss=0.0194]\n",
            "Epoch 62/200: 100%|██████████| 20/20 [00:00<00:00, 68.20it/s, loss=0.0221]\n",
            "Epoch 63/200: 100%|██████████| 20/20 [00:00<00:00, 61.70it/s, loss=0.0237]\n",
            "Epoch 64/200: 100%|██████████| 20/20 [00:00<00:00, 66.84it/s, loss=0.0238]\n",
            "Epoch 65/200: 100%|██████████| 20/20 [00:00<00:00, 67.10it/s, loss=0.0227]\n",
            "Epoch 66/200: 100%|██████████| 20/20 [00:00<00:00, 74.96it/s, loss=0.0208]\n",
            "Epoch 67/200: 100%|██████████| 20/20 [00:00<00:00, 62.58it/s, loss=0.0185]\n",
            "Epoch 68/200: 100%|██████████| 20/20 [00:00<00:00, 72.28it/s, loss=0.0163]\n",
            "Epoch 69/200: 100%|██████████| 20/20 [00:00<00:00, 63.90it/s, loss=0.0144]\n",
            "Epoch 70/200: 100%|██████████| 20/20 [00:00<00:00, 66.80it/s, loss=0.0128]\n",
            "Epoch 71/200: 100%|██████████| 20/20 [00:00<00:00, 76.74it/s, loss=0.0117]\n",
            "Epoch 72/200: 100%|██████████| 20/20 [00:00<00:00, 72.97it/s, loss=0.011]\n",
            "Epoch 73/200: 100%|██████████| 20/20 [00:00<00:00, 65.91it/s, loss=0.0107]\n",
            "Epoch 74/200: 100%|██████████| 20/20 [00:00<00:00, 69.38it/s, loss=0.0108]\n",
            "Epoch 75/200: 100%|██████████| 20/20 [00:00<00:00, 69.17it/s, loss=0.0116]\n",
            "Epoch 76/200: 100%|██████████| 20/20 [00:00<00:00, 55.24it/s, loss=0.013]\n",
            "Epoch 77/200: 100%|██████████| 20/20 [00:00<00:00, 50.97it/s, loss=0.0154]\n",
            "Epoch 78/200: 100%|██████████| 20/20 [00:00<00:00, 58.82it/s, loss=0.019]\n",
            "Epoch 79/200: 100%|██████████| 20/20 [00:00<00:00, 64.41it/s, loss=0.0243]\n",
            "Epoch 80/200: 100%|██████████| 20/20 [00:00<00:00, 61.91it/s, loss=0.0312]\n",
            "Epoch 81/200: 100%|██████████| 20/20 [00:00<00:00, 70.65it/s, loss=0.0398]\n",
            "Epoch 82/200: 100%|██████████| 20/20 [00:00<00:00, 61.27it/s, loss=0.0497]\n",
            "Epoch 83/200: 100%|██████████| 20/20 [00:00<00:00, 70.46it/s, loss=0.0603]\n",
            "Epoch 84/200: 100%|██████████| 20/20 [00:00<00:00, 76.00it/s, loss=0.0701]\n",
            "Epoch 85/200: 100%|██████████| 20/20 [00:00<00:00, 74.39it/s, loss=0.0778]\n",
            "Epoch 86/200: 100%|██████████| 20/20 [00:00<00:00, 69.36it/s, loss=0.082]\n",
            "Epoch 87/200: 100%|██████████| 20/20 [00:00<00:00, 66.43it/s, loss=0.082]\n",
            "Epoch 88/200: 100%|██████████| 20/20 [00:00<00:00, 62.74it/s, loss=0.0775]\n",
            "Epoch 89/200: 100%|██████████| 20/20 [00:00<00:00, 78.94it/s, loss=0.0699]\n",
            "Epoch 90/200: 100%|██████████| 20/20 [00:00<00:00, 69.69it/s, loss=0.0604]\n",
            "Epoch 91/200: 100%|██████████| 20/20 [00:00<00:00, 67.49it/s, loss=0.0503]\n",
            "Epoch 92/200: 100%|██████████| 20/20 [00:00<00:00, 69.02it/s, loss=0.0405]\n",
            "Epoch 93/200: 100%|██████████| 20/20 [00:00<00:00, 69.94it/s, loss=0.0317]\n",
            "Epoch 94/200: 100%|██████████| 20/20 [00:00<00:00, 73.94it/s, loss=0.0244]\n",
            "Epoch 95/200: 100%|██████████| 20/20 [00:00<00:00, 71.47it/s, loss=0.0188]\n",
            "Epoch 96/200: 100%|██████████| 20/20 [00:00<00:00, 69.88it/s, loss=0.015]\n",
            "Epoch 97/200: 100%|██████████| 20/20 [00:00<00:00, 62.06it/s, loss=0.0125]\n",
            "Epoch 98/200: 100%|██████████| 20/20 [00:00<00:00, 73.30it/s, loss=0.0111]\n",
            "Epoch 99/200: 100%|██████████| 20/20 [00:00<00:00, 75.50it/s, loss=0.0107]\n",
            "Epoch 100/200: 100%|██████████| 20/20 [00:00<00:00, 72.08it/s, loss=0.0112]\n",
            "Epoch 101/200: 100%|██████████| 20/20 [00:00<00:00, 70.86it/s, loss=0.0128]\n",
            "Epoch 102/200: 100%|██████████| 20/20 [00:00<00:00, 70.50it/s, loss=0.0155]\n",
            "Epoch 103/200: 100%|██████████| 20/20 [00:00<00:00, 67.67it/s, loss=0.0195]\n",
            "Epoch 104/200: 100%|██████████| 20/20 [00:00<00:00, 68.67it/s, loss=0.0246]\n",
            "Epoch 105/200: 100%|██████████| 20/20 [00:00<00:00, 61.52it/s, loss=0.0303]\n",
            "Epoch 106/200: 100%|██████████| 20/20 [00:00<00:00, 67.82it/s, loss=0.0356]\n",
            "Epoch 107/200: 100%|██████████| 20/20 [00:00<00:00, 69.85it/s, loss=0.0387]\n",
            "Epoch 108/200: 100%|██████████| 20/20 [00:00<00:00, 70.11it/s, loss=0.0385]\n",
            "Epoch 109/200: 100%|██████████| 20/20 [00:00<00:00, 68.16it/s, loss=0.0342]\n",
            "Epoch 110/200: 100%|██████████| 20/20 [00:00<00:00, 69.23it/s, loss=0.0264]\n",
            "Epoch 111/200: 100%|██████████| 20/20 [00:00<00:00, 69.66it/s, loss=0.017]\n",
            "Epoch 112/200: 100%|██████████| 20/20 [00:00<00:00, 75.31it/s, loss=0.00833]\n",
            "Epoch 113/200: 100%|██████████| 20/20 [00:00<00:00, 75.54it/s, loss=0.0031]\n",
            "Epoch 114/200: 100%|██████████| 20/20 [00:00<00:00, 79.78it/s, loss=0.0029]\n",
            "Epoch 115/200: 100%|██████████| 20/20 [00:00<00:00, 69.65it/s, loss=0.00828]\n",
            "Epoch 116/200: 100%|██████████| 20/20 [00:00<00:00, 71.48it/s, loss=0.0183]\n",
            "Epoch 117/200: 100%|██████████| 20/20 [00:00<00:00, 70.57it/s, loss=0.0309]\n",
            "Epoch 118/200: 100%|██████████| 20/20 [00:00<00:00, 58.81it/s, loss=0.0434]\n",
            "Epoch 119/200: 100%|██████████| 20/20 [00:00<00:00, 70.34it/s, loss=0.054]\n",
            "Epoch 120/200: 100%|██████████| 20/20 [00:00<00:00, 76.57it/s, loss=0.061]\n",
            "Epoch 121/200: 100%|██████████| 20/20 [00:00<00:00, 74.16it/s, loss=0.064]\n",
            "Epoch 122/200: 100%|██████████| 20/20 [00:00<00:00, 60.18it/s, loss=0.0629]\n",
            "Epoch 123/200: 100%|██████████| 20/20 [00:00<00:00, 73.17it/s, loss=0.0581]\n",
            "Epoch 124/200: 100%|██████████| 20/20 [00:00<00:00, 60.49it/s, loss=0.0511]\n",
            "Epoch 125/200: 100%|██████████| 20/20 [00:00<00:00, 70.06it/s, loss=0.0434]\n",
            "Epoch 126/200: 100%|██████████| 20/20 [00:00<00:00, 73.24it/s, loss=0.0367]\n",
            "Epoch 127/200: 100%|██████████| 20/20 [00:00<00:00, 77.76it/s, loss=0.0321]\n",
            "Epoch 128/200: 100%|██████████| 20/20 [00:00<00:00, 71.75it/s, loss=0.0304]\n",
            "Epoch 129/200: 100%|██████████| 20/20 [00:00<00:00, 68.99it/s, loss=0.0324]\n",
            "Epoch 130/200: 100%|██████████| 20/20 [00:00<00:00, 69.00it/s, loss=0.0385]\n",
            "Epoch 131/200: 100%|██████████| 20/20 [00:00<00:00, 71.90it/s, loss=0.0501]\n",
            "Epoch 132/200: 100%|██████████| 20/20 [00:00<00:00, 67.93it/s, loss=0.0671]\n",
            "Epoch 133/200: 100%|██████████| 20/20 [00:00<00:00, 71.01it/s, loss=0.0886]\n",
            "Epoch 134/200: 100%|██████████| 20/20 [00:00<00:00, 69.14it/s, loss=0.112]\n",
            "Epoch 135/200: 100%|██████████| 20/20 [00:00<00:00, 66.96it/s, loss=0.131]\n",
            "Epoch 136/200: 100%|██████████| 20/20 [00:00<00:00, 68.38it/s, loss=0.145]\n",
            "Epoch 137/200: 100%|██████████| 20/20 [00:00<00:00, 79.12it/s, loss=0.15]\n",
            "Epoch 138/200: 100%|██████████| 20/20 [00:00<00:00, 75.89it/s, loss=0.148]\n",
            "Epoch 139/200: 100%|██████████| 20/20 [00:00<00:00, 64.91it/s, loss=0.14]\n",
            "Epoch 140/200: 100%|██████████| 20/20 [00:00<00:00, 68.90it/s, loss=0.131]\n",
            "Epoch 141/200: 100%|██████████| 20/20 [00:00<00:00, 68.02it/s, loss=0.121]\n",
            "Epoch 142/200: 100%|██████████| 20/20 [00:00<00:00, 68.13it/s, loss=0.112]\n",
            "Epoch 143/200: 100%|██████████| 20/20 [00:00<00:00, 70.93it/s, loss=0.104]\n",
            "Epoch 144/200: 100%|██████████| 20/20 [00:00<00:00, 68.07it/s, loss=0.0963]\n",
            "Epoch 145/200: 100%|██████████| 20/20 [00:00<00:00, 66.80it/s, loss=0.0895]\n",
            "Epoch 146/200: 100%|██████████| 20/20 [00:00<00:00, 69.56it/s, loss=0.0833]\n",
            "Epoch 147/200: 100%|██████████| 20/20 [00:00<00:00, 72.76it/s, loss=0.0774]\n",
            "Epoch 148/200: 100%|██████████| 20/20 [00:00<00:00, 69.60it/s, loss=0.0719]\n",
            "Epoch 149/200: 100%|██████████| 20/20 [00:00<00:00, 73.06it/s, loss=0.0669]\n",
            "Epoch 150/200: 100%|██████████| 20/20 [00:00<00:00, 76.75it/s, loss=0.0625]\n",
            "Epoch 151/200: 100%|██████████| 20/20 [00:00<00:00, 74.16it/s, loss=0.0583]\n",
            "Epoch 152/200: 100%|██████████| 20/20 [00:00<00:00, 81.86it/s, loss=0.0548]\n",
            "Epoch 153/200: 100%|██████████| 20/20 [00:00<00:00, 71.55it/s, loss=0.0516]\n",
            "Epoch 154/200: 100%|██████████| 20/20 [00:00<00:00, 72.16it/s, loss=0.0487]\n",
            "Epoch 155/200: 100%|██████████| 20/20 [00:00<00:00, 66.14it/s, loss=0.0462]\n",
            "Epoch 156/200: 100%|██████████| 20/20 [00:00<00:00, 69.86it/s, loss=0.0441]\n",
            "Epoch 157/200: 100%|██████████| 20/20 [00:00<00:00, 72.58it/s, loss=0.0423]\n",
            "Epoch 158/200: 100%|██████████| 20/20 [00:00<00:00, 71.60it/s, loss=0.0409]\n",
            "Epoch 159/200: 100%|██████████| 20/20 [00:00<00:00, 74.55it/s, loss=0.0398]\n",
            "Epoch 160/200: 100%|██████████| 20/20 [00:00<00:00, 70.23it/s, loss=0.0391]\n",
            "Epoch 161/200: 100%|██████████| 20/20 [00:00<00:00, 72.32it/s, loss=0.0388]\n",
            "Epoch 162/200: 100%|██████████| 20/20 [00:00<00:00, 74.54it/s, loss=0.0387]\n",
            "Epoch 163/200: 100%|██████████| 20/20 [00:00<00:00, 69.74it/s, loss=0.0389]\n",
            "Epoch 164/200: 100%|██████████| 20/20 [00:00<00:00, 73.35it/s, loss=0.0393]\n",
            "Epoch 165/200: 100%|██████████| 20/20 [00:00<00:00, 78.09it/s, loss=0.0399]\n",
            "Epoch 166/200: 100%|██████████| 20/20 [00:00<00:00, 68.98it/s, loss=0.0406]\n",
            "Epoch 167/200: 100%|██████████| 20/20 [00:00<00:00, 68.35it/s, loss=0.0414]\n",
            "Epoch 168/200: 100%|██████████| 20/20 [00:00<00:00, 70.26it/s, loss=0.0422]\n",
            "Epoch 169/200: 100%|██████████| 20/20 [00:00<00:00, 68.80it/s, loss=0.043]\n",
            "Epoch 170/200: 100%|██████████| 20/20 [00:00<00:00, 75.06it/s, loss=0.0436]\n",
            "Epoch 171/200: 100%|██████████| 20/20 [00:00<00:00, 67.14it/s, loss=0.0442]\n",
            "Epoch 172/200: 100%|██████████| 20/20 [00:00<00:00, 70.75it/s, loss=0.0444]\n",
            "Epoch 173/200: 100%|██████████| 20/20 [00:00<00:00, 77.08it/s, loss=0.0446]\n",
            "Epoch 174/200: 100%|██████████| 20/20 [00:00<00:00, 70.94it/s, loss=0.0443]\n",
            "Epoch 175/200: 100%|██████████| 20/20 [00:00<00:00, 72.82it/s, loss=0.0439]\n",
            "Epoch 176/200: 100%|██████████| 20/20 [00:00<00:00, 66.35it/s, loss=0.0431]\n",
            "Epoch 177/200: 100%|██████████| 20/20 [00:00<00:00, 73.22it/s, loss=0.042]\n",
            "Epoch 178/200: 100%|██████████| 20/20 [00:00<00:00, 71.99it/s, loss=0.0407]\n",
            "Epoch 179/200: 100%|██████████| 20/20 [00:00<00:00, 80.60it/s, loss=0.0391]\n",
            "Epoch 180/200: 100%|██████████| 20/20 [00:00<00:00, 76.96it/s, loss=0.0374]\n",
            "Epoch 181/200: 100%|██████████| 20/20 [00:00<00:00, 67.79it/s, loss=0.0354]\n",
            "Epoch 182/200: 100%|██████████| 20/20 [00:00<00:00, 70.86it/s, loss=0.0334]\n",
            "Epoch 183/200: 100%|██████████| 20/20 [00:00<00:00, 70.25it/s, loss=0.0313]\n",
            "Epoch 184/200: 100%|██████████| 20/20 [00:00<00:00, 69.01it/s, loss=0.0292]\n",
            "Epoch 185/200: 100%|██████████| 20/20 [00:00<00:00, 70.16it/s, loss=0.0272]\n",
            "Epoch 186/200: 100%|██████████| 20/20 [00:00<00:00, 70.60it/s, loss=0.0253]\n",
            "Epoch 187/200: 100%|██████████| 20/20 [00:00<00:00, 71.27it/s, loss=0.0234]\n",
            "Epoch 188/200: 100%|██████████| 20/20 [00:00<00:00, 68.06it/s, loss=0.0216]\n",
            "Epoch 189/200: 100%|██████████| 20/20 [00:00<00:00, 78.59it/s, loss=0.02]\n",
            "Epoch 190/200: 100%|██████████| 20/20 [00:00<00:00, 68.62it/s, loss=0.0186]\n",
            "Epoch 191/200: 100%|██████████| 20/20 [00:00<00:00, 71.23it/s, loss=0.0172]\n",
            "Epoch 192/200: 100%|██████████| 20/20 [00:00<00:00, 62.62it/s, loss=0.016]\n",
            "Epoch 193/200: 100%|██████████| 20/20 [00:00<00:00, 65.04it/s, loss=0.015]\n",
            "Epoch 194/200: 100%|██████████| 20/20 [00:00<00:00, 71.40it/s, loss=0.014]\n",
            "Epoch 195/200: 100%|██████████| 20/20 [00:00<00:00, 74.51it/s, loss=0.0132]\n",
            "Epoch 196/200: 100%|██████████| 20/20 [00:00<00:00, 67.62it/s, loss=0.0124]\n",
            "Epoch 197/200: 100%|██████████| 20/20 [00:00<00:00, 66.68it/s, loss=0.0117]\n",
            "Epoch 198/200: 100%|██████████| 20/20 [00:00<00:00, 71.77it/s, loss=0.011]\n",
            "Epoch 199/200: 100%|██████████| 20/20 [00:00<00:00, 72.23it/s, loss=0.0105]\n",
            "Epoch 200/200: 100%|██████████| 20/20 [00:00<00:00, 72.69it/s, loss=0.00996]\n"
          ]
        }
      ]
    },
    {
      "cell_type": "code",
      "source": [
        "model.eval()\n",
        "loss = 0\n",
        "batch = 0\n",
        "original = []\n",
        "predi = []\n",
        "with torch.no_grad():\n",
        "    for data, label in test_loader:\n",
        "        pred = model.forward(data)\n",
        "        original.extend(label.tolist())\n",
        "        predi.extend(pred[0].reshape(1,-1).tolist())\n",
        "        loss += loss_func(pred,label.reshape(1,-1,1))\n",
        "        print(label,pred)\n",
        "        batch+=1\n",
        "        \n",
        "    print(f\"Loss : {loss/batch}\")"
      ],
      "metadata": {
        "colab": {
          "base_uri": "https://localhost:8080/"
        },
        "id": "fzGtson7XtWd",
        "outputId": "8e5f9a79-52eb-4c7e-e001-2fecb279dfe3"
      },
      "execution_count": 25,
      "outputs": [
        {
          "output_type": "stream",
          "name": "stdout",
          "text": [
            "tensor([103., 104., 105., 106., 107.]) tensor([[[101.6684],\n",
            "         [102.2234],\n",
            "         [102.7299],\n",
            "         [103.1937],\n",
            "         [103.6208]],\n",
            "\n",
            "        [[101.3694],\n",
            "         [101.8558],\n",
            "         [102.2965],\n",
            "         [102.6974],\n",
            "         [103.0637]]])\n",
            "tensor([108., 109., 110., 111., 112.]) tensor([[[104.0175],\n",
            "         [104.3898],\n",
            "         [104.7427],\n",
            "         [105.0798],\n",
            "         [105.4041]],\n",
            "\n",
            "        [[103.4007],\n",
            "         [103.7128],\n",
            "         [104.0039],\n",
            "         [104.2770],\n",
            "         [104.5341]]])\n",
            "tensor([113., 114., 115., 116., 117.]) tensor([[[105.7169],\n",
            "         [106.0194],\n",
            "         [106.3125],\n",
            "         [106.5977],\n",
            "         [106.8777]],\n",
            "\n",
            "        [[104.7767],\n",
            "         [105.0055],\n",
            "         [105.2213],\n",
            "         [105.4248],\n",
            "         [105.6172]]])\n",
            "tensor([118., 119.]) tensor([[[107.1564],\n",
            "         [107.4385]],\n",
            "\n",
            "        [[105.8000],\n",
            "         [105.9752]]])\n",
            "Loss : 67.31532287597656\n"
          ]
        },
        {
          "output_type": "stream",
          "name": "stderr",
          "text": [
            "/usr/local/lib/python3.7/dist-packages/torch/nn/modules/loss.py:530: UserWarning: Using a target size (torch.Size([1, 5, 1])) that is different to the input size (torch.Size([2, 5, 1])). This will likely lead to incorrect results due to broadcasting. Please ensure they have the same size.\n",
            "  return F.mse_loss(input, target, reduction=self.reduction)\n",
            "/usr/local/lib/python3.7/dist-packages/torch/nn/modules/loss.py:530: UserWarning: Using a target size (torch.Size([1, 2, 1])) that is different to the input size (torch.Size([2, 2, 1])). This will likely lead to incorrect results due to broadcasting. Please ensure they have the same size.\n",
            "  return F.mse_loss(input, target, reduction=self.reduction)\n"
          ]
        }
      ]
    },
    {
      "cell_type": "code",
      "source": [
        "test = []\n",
        "for i in predi:\n",
        "    test.extend(i)\n",
        "\n",
        "# test = [int(i) for i in test]\n",
        "plt.plot(original)\n",
        "plt.plot(test)"
      ],
      "metadata": {
        "colab": {
          "base_uri": "https://localhost:8080/",
          "height": 282
        },
        "id": "7mkoK_sraJIu",
        "outputId": "8e25c647-e145-4146-ca23-e9d0d20dde53"
      },
      "execution_count": 26,
      "outputs": [
        {
          "output_type": "execute_result",
          "data": {
            "text/plain": [
              "[<matplotlib.lines.Line2D at 0x7f22ed843cd0>]"
            ]
          },
          "metadata": {},
          "execution_count": 26
        },
        {
          "output_type": "display_data",
          "data": {
            "text/plain": [
              "<Figure size 432x288 with 1 Axes>"
            ],
            "image/png": "[encoded data removed]"
          },
          "metadata": {
            "needs_background": "light"
          }
        }
      ]
    },
    {
      "cell_type": "code",
      "source": [
        ""
      ],
      "metadata": {
        "id": "V-uim9UNaLl9"
      },
      "execution_count": 20,
      "outputs": []
    }
  ]
}